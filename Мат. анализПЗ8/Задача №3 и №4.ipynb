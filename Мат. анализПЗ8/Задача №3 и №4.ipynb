{
  "nbformat": 4,
  "nbformat_minor": 0,
  "metadata": {
    "colab": {
      "name": "Untitled3.ipynb",
      "provenance": [],
      "collapsed_sections": []
    },
    "kernelspec": {
      "name": "python3",
      "display_name": "Python 3"
    },
    "language_info": {
      "name": "python"
    }
  },
  "cells": [
    {
      "cell_type": "code",
      "source": [
        "from scipy.optimize import fsolve, broyden2\n",
        "import math\n",
        "\n",
        "def equations(p):\n",
        "    x, y = p\n",
        "    return ((x**2)-(y**2)+(3*x*y**3)-(2*x**2*y**2)+(2*x)-(3*y)-5, (3*y**3)-(2*x**2)+(2*x**3*y)-(5*x**2*y**2)+ 5)\n",
        "\n",
        "x, y =  fsolve(equations, (0,0))\n",
        "print(round(x,6))"
      ],
      "metadata": {
        "colab": {
          "base_uri": "https://localhost:8080/"
        },
        "id": "BM7MuEyd6VGI",
        "outputId": "a4afface-ea96-43a8-ffe3-998bc285208a"
      },
      "execution_count": 2,
      "outputs": [
        {
          "output_type": "stream",
          "name": "stdout",
          "text": [
            "1.375687\n"
          ]
        }
      ]
    },
    {
      "cell_type": "code",
      "execution_count": 1,
      "metadata": {
        "colab": {
          "base_uri": "https://localhost:8080/"
        },
        "outputId": "84951a46-470c-4b0b-904c-a626865b5d2e",
        "id": "fBkDB-hb6aDe"
      },
      "outputs": [
        {
          "output_type": "stream",
          "name": "stdout",
          "text": [
            "{1.375687, 2.494357, 2.217754, 1.273302, -3.65308}\n"
          ]
        }
      ],
      "source": [
        "from scipy.optimize import fsolve, broyden2\n",
        "import math\n",
        "\n",
        "def equations(p):\n",
        "    x, y = p\n",
        "    return ((x**2)-(y**2)+(3*x*y**3)-(2*x**2*y**2)+(2*x)-(3*y)-5, (3*y**3)-(2*x**2)+(2*x**3*y)-(5*x**2*y**2)+ 5)\n",
        "\n",
        "solv = set()\n",
        "n_1 = -10\n",
        "n_2 = 0\n",
        "for i in range(1,20):\n",
        "  x, y =  fsolve(equations, (n_1,n_2))\n",
        "  n_1 = n_2\n",
        "  n_2 += 0.102 # наименьший из возможных шагов - округленная разница между ближайшими отдельно найденными корнями - 1.375687 и 1.273302\n",
        "  solv.add(round(x, 6))\n",
        "print(solv)\n"
      ]
    }
  ]
}